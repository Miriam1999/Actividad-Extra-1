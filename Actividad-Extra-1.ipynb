{
 "cells": [
  {
   "cell_type": "markdown",
   "metadata": {},
   "source": [
    "Ejercicio 1"
   ]
  },
  {
   "cell_type": "code",
   "execution_count": null,
   "metadata": {},
   "outputs": [],
   "source": [
    "text=input(\"Ingresa una frase: \")\n",
    "list=text.split(\" \")\n",
    "\n",
    "for word in list:\n",
    "    count=0\n",
    "    for character in word:\n",
    "        count+=1\n",
    "    print(\"La palabra \"+word+\"- tiene \"+str(count)+\" caracteres.\")"
   ]
  },
  {
   "cell_type": "markdown",
   "metadata": {},
   "source": [
    "Ejercicio 2"
   ]
  },
  {
   "cell_type": "code",
   "execution_count": null,
   "metadata": {},
   "outputs": [],
   "source": [
    "list=[]\n",
    "for i in range(1,1001,1):\n",
    "    list.append(i)\n",
    "\n",
    "divisible_1=[]\n",
    "divisible_2=[]\n",
    "divisible_3=[]\n",
    "divisible_4=[]\n",
    "divisible_5=[]\n",
    "divisible_6=[]\n",
    "divisible_7=[]\n",
    "divisible_8=[]\n",
    "divisible_9=[]\n",
    "\n",
    "for number in list:\n",
    "    if number%1==0:\n",
    "        divisible_1.append(number)\n",
    "    if number%2==0:\n",
    "        divisible_2.append(number)\n",
    "    if number%3==0:\n",
    "        divisible_3.append(number)\n",
    "    if number%4==0:\n",
    "        divisible_4.append(number)\n",
    "    if number%5==0:\n",
    "        divisible_5.append(number)\n",
    "    if number%6==0:\n",
    "        divisible_6.append(number)\n",
    "    if number%7==0:\n",
    "        divisible_7.append(number)\n",
    "    if number%8==0:\n",
    "        divisible_8.append(number)\n",
    "    if number%9==0:\n",
    "        divisible_9.append(number)\n",
    "        \n",
    "print(divisible_1)\n",
    "print(\"-------------------------------------------------------------------------------------------------------------------------\")\n",
    "print(divisible_2)\n",
    "print(\"-------------------------------------------------------------------------------------------------------------------------\")\n",
    "print(divisible_3)\n",
    "print(\"-------------------------------------------------------------------------------------------------------------------------\")\n",
    "print(divisible_4)\n",
    "print(\"-------------------------------------------------------------------------------------------------------------------------\")\n",
    "print(divisible_5)\n",
    "print(\"-------------------------------------------------------------------------------------------------------------------------\")\n",
    "print(divisible_6)\n",
    "print(\"-------------------------------------------------------------------------------------------------------------------------\")\n",
    "print(divisible_7)\n",
    "print(\"-------------------------------------------------------------------------------------------------------------------------\")\n",
    "print(divisible_8)\n",
    "print(\"-------------------------------------------------------------------------------------------------------------------------\")\n",
    "print(divisible_9)"
   ]
  }
 ],
 "metadata": {
  "kernelspec": {
   "display_name": "Python 3",
   "language": "python",
   "name": "python3"
  },
  "language_info": {
   "codemirror_mode": {
    "name": "ipython",
    "version": 3
   },
   "file_extension": ".py",
   "mimetype": "text/x-python",
   "name": "python",
   "nbconvert_exporter": "python",
   "pygments_lexer": "ipython3",
   "version": "3.7.3"
  }
 },
 "nbformat": 4,
 "nbformat_minor": 2
}
