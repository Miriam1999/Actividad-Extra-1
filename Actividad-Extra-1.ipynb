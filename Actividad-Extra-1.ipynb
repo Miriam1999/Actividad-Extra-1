{
 "cells": [
  {
   "cell_type": "markdown",
   "metadata": {},
   "source": [
    "Ejercicio 1"
   ]
  },
  {
   "cell_type": "code",
   "execution_count": 14,
   "metadata": {},
   "outputs": [
    {
     "name": "stdout",
     "output_type": "stream",
     "text": [
      "Ingresa una frase: Python es fresón y te entrega la palabra lógica.\n",
      "-La palabra 'Python' tiene 6 caracteres.\n",
      "-La palabra 'es' tiene 2 caracteres.\n",
      "-La palabra 'fresón' tiene 6 caracteres.\n",
      "-La palabra 'y' tiene 1 caracter.\n",
      "-La palabra 'te' tiene 2 caracteres.\n",
      "-La palabra 'entrega' tiene 7 caracteres.\n",
      "-La palabra 'la' tiene 2 caracteres.\n",
      "-La palabra 'palabra' tiene 7 caracteres.\n",
      "-La palabra 'lógica.' tiene 6 caracteres.\n"
     ]
    }
   ],
   "source": [
    "signos_inutiles=\".\",\",\",\"¿\",\"?\",\"¡\",\"!\",\":\"\n",
    "text=input(\"Ingresa una frase: \")\n",
    "list=text.split(\" \")\n",
    "\n",
    "for word in list:\n",
    "    count=0\n",
    "    for character in word:\n",
    "        if character in signos_inutiles:\n",
    "            continue\n",
    "        count+=1\n",
    "    if count==1:\n",
    "        print(\"-La palabra '\"+word+\"' tiene \"+str(count)+\" caracter.\")\n",
    "    else:\n",
    "        print(\"-La palabra '\"+word+\"' tiene \"+str(count)+\" caracteres.\")"
   ]
  },
  {
   "cell_type": "markdown",
   "metadata": {},
   "source": [
    "Ejercicio 2"
   ]
  },
  {
   "cell_type": "code",
   "execution_count": 21,
   "metadata": {},
   "outputs": [
    {
     "name": "stdout",
     "output_type": "stream",
     "text": [
      "[1]\n",
      "[1]\n",
      "[1]\n",
      "[1]\n",
      "[1]\n",
      "[1]\n",
      "[1]\n",
      "[1]\n",
      "[1]\n"
     ]
    }
   ],
   "source": [
    "list=[]\n",
    "for i in range(1,1001,1):\n",
    "    list.append(i)\n",
    "\n",
    "def hacer_lista(divisor):\n",
    "    lista_divisible=[]\n",
    "    for number in list:\n",
    "        if number%divisor==0:\n",
    "            lista_divisible.append(number)\n",
    "        return divisible\n",
    "    \n",
    "for divisor in range(1,10):\n",
    "    resultado=hacer_lista(divisor)\n",
    "    print(resultado)"
   ]
  },
  {
   "cell_type": "code",
   "execution_count": null,
   "metadata": {},
   "outputs": [],
   "source": []
  }
 ],
 "metadata": {
  "kernelspec": {
   "display_name": "Python 3",
   "language": "python",
   "name": "python3"
  },
  "language_info": {
   "codemirror_mode": {
    "name": "ipython",
    "version": 3
   },
   "file_extension": ".py",
   "mimetype": "text/x-python",
   "name": "python",
   "nbconvert_exporter": "python",
   "pygments_lexer": "ipython3",
   "version": "3.6.6"
  }
 },
 "nbformat": 4,
 "nbformat_minor": 2
}
